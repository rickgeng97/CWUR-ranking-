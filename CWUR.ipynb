{
  "cells": [
    {
      "metadata": {
        "_uuid": "8f2839f25d086af736a60e9eeb907d3b93b6e0e5",
        "_cell_guid": "b1076dfc-b9ad-4769-8c92-a6c4dae69d19",
        "trusted": true
      },
      "cell_type": "code",
      "source": "#Wranlging\nimport pandas as pd\nimport numpy as np\n\n#Visualization\nimport matplotlib.pyplot as plt\nimport seaborn as sns\n\n#Classification\nfrom sklearn import preprocessing\nfrom sklearn.model_selection import train_test_split\nfrom sklearn.tree import DecisionTreeClassifier\nfrom sklearn.ensemble import RandomForestClassifier\nfrom sklearn.ensemble import AdaBoostRegressor\nfrom sklearn.neighbors import KNeighborsClassifier\nfrom sklearn.linear_model import LogisticRegression\nfrom sklearn.naive_bayes import GaussianNB\nfrom sklearn.metrics import accuracy_score",
      "execution_count": null,
      "outputs": []
    },
    {
      "metadata": {
        "_uuid": "1b1f42b561f12d71bf371c41d8f3c4d838de99fc"
      },
      "cell_type": "markdown",
      "source": "# List of Questions we would like to answer\nQuestion 1: Identify Universities whose rank has been non-decreasing. <br>\nQuestion 2: Which factors are more determining at rankings <br>\nQuestion 3: Predict University Rankings based on different factors <br>"
    },
    {
      "metadata": {
        "_uuid": "63bbc43787917f070a693858986637e8ef8b4826"
      },
      "cell_type": "markdown",
      "source": "### But first, let's see some basic stats. "
    },
    {
      "metadata": {
        "_cell_guid": "79c7e3d0-c299-4dcb-8224-4455121ee9b0",
        "_uuid": "d629ff2d2480ee46fbb7e2d37f6b5fab8052498a",
        "trusted": true
      },
      "cell_type": "code",
      "source": "rank = pd.read_csv('../input/cwurData.csv')",
      "execution_count": null,
      "outputs": []
    },
    {
      "metadata": {
        "trusted": true,
        "_uuid": "7ae74889b5fd0e21a47335da2c35198dcd534eb9",
        "scrolled": false
      },
      "cell_type": "code",
      "source": "rank.info()",
      "execution_count": null,
      "outputs": []
    },
    {
      "metadata": {
        "trusted": true,
        "scrolled": true,
        "_uuid": "263e36fba26f189af69d0a48efc510e5392ee8b2"
      },
      "cell_type": "code",
      "source": "rank.describe()",
      "execution_count": null,
      "outputs": []
    },
    {
      "metadata": {
        "trusted": true,
        "_uuid": "26524ae77eb9bddb1d6a54b3bfc3a772076f841d",
        "scrolled": true
      },
      "cell_type": "code",
      "source": "list(rank.columns.values)",
      "execution_count": null,
      "outputs": []
    },
    {
      "metadata": {
        "trusted": true,
        "_uuid": "658980e7b024a1be777e1a6a9651f21e42c6af2c"
      },
      "cell_type": "code",
      "source": "#Distinct Years\nrank.year.unique()",
      "execution_count": null,
      "outputs": []
    },
    {
      "metadata": {
        "trusted": true,
        "scrolled": false,
        "_uuid": "2a1c096d76b6ff76d653127e253463578f56bef3"
      },
      "cell_type": "code",
      "source": "#Count of Institution by country in 2015\nins_count = rank[rank['year'] == 2015].groupby('country').size().sort_values(ascending = False)\nplt.figure(figsize = (15,10))\nax = sns.barplot(x = ins_count.index, y = ins_count.values)\nax.set(xlabel = 'Country', ylabel = 'Number of Institution')\nplt.xticks(rotation = 70)\nplt.show()",
      "execution_count": null,
      "outputs": []
    },
    {
      "metadata": {
        "trusted": true,
        "_uuid": "75c7ae971c1ada6e0ac29c741e6c75dd24574e32"
      },
      "cell_type": "code",
      "source": "#Number of top 100 institution by country in 2015\ntop_count = rank[rank['year'] == 2015].head(100).groupby('country').size().sort_values(ascending = False)\nplt.figure(figsize = (15,10))\nax = sns.barplot(x = top_count.index, y = top_count.values)\nax.set(xlabel = 'Country', ylabel = 'Number of top 100 Institution')\nplt.xticks(rotation = 70)\nplt.show()",
      "execution_count": null,
      "outputs": []
    },
    {
      "metadata": {
        "trusted": true,
        "_uuid": "eeee0a5c6e5dc448fd74c26acc2522f9a181acd6"
      },
      "cell_type": "code",
      "source": "#Percentage of top 100 institution by country in 2015\nper_count = top_count/ins_count\nper_count.dropna(inplace = True)\nper_count.sort_values(ascending = False, inplace = True)\nplt.figure(figsize = (15,10))\nax = sns.barplot(x = per_count.index, y = per_count.values)\nax.set(xlabel = 'Country', ylabel = 'Number of top 100 Institution')\nplt.xticks(rotation = 70)\nplt.show()",
      "execution_count": null,
      "outputs": []
    },
    {
      "metadata": {
        "_uuid": "5ab14f692b94cb007f05bc2f2c5dcb66fbeb7622"
      },
      "cell_type": "markdown",
      "source": "## Question 1: Identify Universities whose rank has been non-decreasing."
    },
    {
      "metadata": {
        "trusted": true,
        "scrolled": true,
        "_uuid": "0336fb6c6d6a7a4dbbec532acaa1c0365d829440"
      },
      "cell_type": "code",
      "source": "#Define a new dataframe\ninstitution = list(rank.institution.unique())\nnon_decreasing = pd.DataFrame(data=institution,columns=['institution'])\nnon_decreasing.head()",
      "execution_count": null,
      "outputs": []
    },
    {
      "metadata": {
        "trusted": true,
        "scrolled": true,
        "_uuid": "7bd5450b773d497caae659440247648b357bcddf"
      },
      "cell_type": "code",
      "source": "#filtering \ndef non_decreasing_rank(institution):\n    world_rank = list(rank[rank.institution == institution]['world_rank'])\n    count = rank.groupby('institution').size()[institution]\n    for i in range(1,count): #1,2,3\n        if world_rank[i-1] < world_rank[i]:\n            return False\n    return True\n\n#Moment of true\nnon_decreasing[non_decreasing['institution'].apply(non_decreasing_rank) == True]",
      "execution_count": null,
      "outputs": []
    },
    {
      "metadata": {
        "_uuid": "ca19d025b80827fc365d4d40f0eddc571ea1e221"
      },
      "cell_type": "markdown",
      "source": "## Question 2 : Which factors are more determining at rankings"
    },
    {
      "metadata": {
        "trusted": true,
        "_uuid": "6108afe40e2338ed1bca3cb69b566ed7d1dcb43c"
      },
      "cell_type": "code",
      "source": "#We are using 2015 figures\nrank2015 = rank[rank.year == 2015]\nrank2015.drop(['country','national_rank','year','broad_impact'],axis = 1, inplace = True)\nrank2015.head()",
      "execution_count": null,
      "outputs": []
    },
    {
      "metadata": {
        "trusted": true,
        "_uuid": "1b1f94b898dcfd1e6d442ee6f054c665630b3a70"
      },
      "cell_type": "code",
      "source": "y = rank2015.quality_of_education.max() + 1",
      "execution_count": null,
      "outputs": []
    },
    {
      "metadata": {
        "trusted": true,
        "scrolled": false,
        "_uuid": "dc93695b819c2fd80729314ad2588d850dba9f66"
      },
      "cell_type": "code",
      "source": "factor = list(rank2015.columns.values)[2:9]\nfactor",
      "execution_count": null,
      "outputs": []
    },
    {
      "metadata": {
        "trusted": true,
        "scrolled": true,
        "_uuid": "f1e13c014727bd2a538b02812ec8e54c86be3a31"
      },
      "cell_type": "code",
      "source": "for i in range(len(factor)):\n    z = rank2015[factor[i]].apply(lambda x:y-x)\n    plt.figure(i)\n    sns.regplot(x=z, y='score', data = rank2015)",
      "execution_count": null,
      "outputs": []
    },
    {
      "metadata": {
        "trusted": true,
        "_uuid": "3c2cde187a28bd78ccc3602de8de733fa96a4e16"
      },
      "cell_type": "code",
      "source": "cor = pd.DataFrame()\nfor i in range(len(factor)):\n    cor[factor[i]] = rank2015[factor[i]].apply(lambda x:y-x)\ncor['score'] = rank2015.score\ncor.corr() ",
      "execution_count": null,
      "outputs": []
    },
    {
      "metadata": {
        "_uuid": "4098ee7cd5c7d5091643cee94c63ec9b5e3ec846"
      },
      "cell_type": "markdown",
      "source": "## Question 3: Predict University Rankings based on different factors"
    },
    {
      "metadata": {
        "trusted": true,
        "scrolled": true,
        "_uuid": "c44cd92d4f6d64c3c81b726cd16cb7dcfdd398fa"
      },
      "cell_type": "code",
      "source": "score = rank.score\ntrain = rank[factor] \nlab_enc = preprocessing.LabelEncoder()\nscore_encoded = lab_enc.fit_transform(score)",
      "execution_count": null,
      "outputs": []
    },
    {
      "metadata": {
        "trusted": true,
        "_uuid": "d910c4a35e5f0a7b87aaac897d81f9ff71b8f764"
      },
      "cell_type": "code",
      "source": "x_train, y_train, x_test, y_test = train_test_split(train,score_encoded,train_size = 0.9, random_state = 0)",
      "execution_count": null,
      "outputs": []
    },
    {
      "metadata": {
        "trusted": true,
        "_uuid": "c66db858c0256c327c7a4a924b819af931257d1c"
      },
      "cell_type": "code",
      "source": "#Decision Tree\ntree = DecisionTreeClassifier()\ntree.fit(x_train,x_test)\ny_pred = tree.predict(y_train)\ny1 = lab_enc.inverse_transform(y_test)\ny2 = lab_enc.inverse_transform(y_pred)",
      "execution_count": null,
      "outputs": []
    },
    {
      "metadata": {
        "trusted": true,
        "_uuid": "b12d43a8b02b8d2a0a5d7828f6c6b6c2ce0277f7",
        "scrolled": true
      },
      "cell_type": "code",
      "source": "np.corrcoef(y1,y2)\nsns.regplot(y1,y2)",
      "execution_count": null,
      "outputs": []
    },
    {
      "metadata": {
        "_uuid": "f4ada8b298182f34570c4746bb6c577e33ae041c"
      },
      "cell_type": "markdown",
      "source": "It looks like the predicted values are very similar to true values. "
    },
    {
      "metadata": {
        "trusted": true,
        "scrolled": true,
        "_uuid": "840058ced4b2b70fac1e42c64e9bd8812d820bc1"
      },
      "cell_type": "code",
      "source": "#Percentage of predicted score lies in between ±0.5 of the true score. \nfit = 0\nfor i in range(len(y1)):\n    if (y1[i] - 0.5) <= y2[i] <= (y1[i] + 0.5):\n        fit = fit + 1\n        \nprint(fit/len(y1))",
      "execution_count": null,
      "outputs": []
    },
    {
      "metadata": {
        "_uuid": "bba472d05a30958786c7b5f097ebe24b386dba6f"
      },
      "cell_type": "markdown",
      "source": "DecisionTree is useful for classifying discrete random variables or binned continous random variables. In the case of dealing with unbinned continous variables, it is actually not too bad. But, there must be better models."
    },
    {
      "metadata": {
        "trusted": true,
        "_uuid": "7514289434935b4172f0c60568a4aa44635aec0a"
      },
      "cell_type": "code",
      "source": "#K-Nearest Neighbors\nneigh = KNeighborsClassifier()\nneigh.fit(x_train, x_test)\ny_pred = neigh.predict(y_train)\ny1 = lab_enc.inverse_transform(y_test)\ny2 = lab_enc.inverse_transform(y_pred)",
      "execution_count": null,
      "outputs": []
    },
    {
      "metadata": {
        "trusted": true,
        "scrolled": true,
        "_uuid": "c38724d2f55b118fe1aca3a73603c0c311d55dcf"
      },
      "cell_type": "code",
      "source": "sns.regplot(y1,y2)\nnp.corrcoef(y1,y2)",
      "execution_count": null,
      "outputs": []
    },
    {
      "metadata": {
        "trusted": true,
        "scrolled": true,
        "_uuid": "4d5b90fe211a285718515cb4190a2385d1736b58"
      },
      "cell_type": "code",
      "source": "#Percentage of predicted score lies in between ±0.5 of the true score. \nfit = 0\nfor i in range(len(y1)):\n    if (y1[i] - 0.5) <= y2[i] <= (y1[i] + 0.5):\n        fit = fit + 1\n        \nprint(fit/len(y1))",
      "execution_count": null,
      "outputs": []
    },
    {
      "metadata": {
        "trusted": true,
        "_uuid": "6521ccf13fa2b7e2472764f6f70f0c4fed9bed8f"
      },
      "cell_type": "code",
      "source": "#Random Forest\nforest = RandomForestClassifier()\nforest.fit(x_train,x_test)\ny_pred = forest.predict(y_train)\ny1 = lab_enc.inverse_transform(y_test)\ny2 = lab_enc.inverse_transform(y_pred)",
      "execution_count": null,
      "outputs": []
    },
    {
      "metadata": {
        "trusted": true,
        "_uuid": "5a1f0a1bed13487535b2713fead80616db2dd7eb"
      },
      "cell_type": "code",
      "source": "sns.regplot(y1,y2)\nnp.corrcoef(y1,y2)",
      "execution_count": null,
      "outputs": []
    },
    {
      "metadata": {
        "_uuid": "7b2d9c0ab990a2a52bbaf27bd203a35c818347c4"
      },
      "cell_type": "markdown",
      "source": "Random Forest is the strongest classifier here"
    },
    {
      "metadata": {
        "trusted": true,
        "scrolled": true,
        "_uuid": "47c124a25f3a805d475b4588af22d0532d844773"
      },
      "cell_type": "code",
      "source": "#Percentage of predicted score lies in between ±0.5 of the true score. \nfit = 0\nfor i in range(len(y1)):\n    if (y1[i] - 0.5) <= y2[i] <= (y1[i] + 0.5):\n        fit = fit + 1\n        \nprint(fit/len(y1))",
      "execution_count": null,
      "outputs": []
    }
  ],
  "metadata": {
    "kernelspec": {
      "display_name": "Python 3",
      "language": "python",
      "name": "python3"
    },
    "language_info": {
      "name": "python",
      "version": "3.6.6",
      "mimetype": "text/x-python",
      "codemirror_mode": {
        "name": "ipython",
        "version": 3
      },
      "pygments_lexer": "ipython3",
      "nbconvert_exporter": "python",
      "file_extension": ".py"
    }
  },
  "nbformat": 4,
  "nbformat_minor": 1
}